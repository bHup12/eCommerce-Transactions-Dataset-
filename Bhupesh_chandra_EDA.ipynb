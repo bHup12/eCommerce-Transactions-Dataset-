
import pandas as pd
import seaborn as sns
import matplotlib.pyplot as plt

# Load datasets
customers = pd.read_csv("Customers.csv")
products = pd.read_csv("Products.csv")
transactions = pd.read_csv("Transactions.csv")

# Merge datasets for analysis
data = transactions.merge(customers, on="CustomerID").merge(products, on="ProductID")

# Summary statistics
print(data.describe())

# Missing values check
print(data.isnull().sum())

# Customer distribution by region
sns.countplot(x="Region", data=customers)
plt.title("Customer Distribution by Region")
plt.show()

# Price distribution by category
sns.boxplot(x="Category", y="Price", data=products)
plt.title("Price Distribution by Category")
plt.show()

# Top 5 products by sales
top_products = data.groupby("ProductName")["TotalValue"].sum().sort_values(ascending=False).head(5)
print("Top 5 Products by Sales:")
print(top_products)
