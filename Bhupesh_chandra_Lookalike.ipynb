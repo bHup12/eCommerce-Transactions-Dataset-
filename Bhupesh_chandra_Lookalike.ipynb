
import pandas as pd
from sklearn.metrics.pairwise import cosine_similarity

# Load datasets
customers = pd.read_csv("Customers.csv")
products = pd.read_csv("Products.csv")
transactions = pd.read_csv("Transactions.csv")

# Merge datasets for lookalike modeling
data = transactions.merge(customers, on="CustomerID").merge(products, on="ProductID")

# Create a pivot table for transaction similarity
transaction_matrix = data.pivot_table(index="CustomerID", columns="ProductName", values="TotalValue", aggfunc="sum").fillna(0)

# Calculate cosine similarity
similarity_matrix = cosine_similarity(transaction_matrix)
similarity_df = pd.DataFrame(similarity_matrix, index=transaction_matrix.index, columns=transaction_matrix.index)

# Get top 3 lookalike customers for each of the first 20 customers
lookalike_results = {}
for customer in customers["CustomerID"][:20]:
    if customer in similarity_df.index:
        similar_customers = similarity_df.loc[customer].sort_values(ascending=False)[1:4]
        lookalike_results[customer] = similar_customers.to_dict()

# Save results to CSV
lookalike_df = pd.DataFrame.from_dict(lookalike_results, orient="index").stack().reset_index()
lookalike_df.columns = ["CustomerID", "SimilarCustomerID", "SimilarityScore"]
lookalike_df.to_csv("Bhupesh_chandra_Lookalike.csv", index=False)
